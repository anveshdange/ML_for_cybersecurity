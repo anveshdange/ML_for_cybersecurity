{
 "cells": [
  {
   "cell_type": "markdown",
   "id": "5e65216f",
   "metadata": {
    "papermill": {
     "duration": 0.012591,
     "end_time": "2022-02-26T16:40:29.140954",
     "exception": false,
     "start_time": "2022-02-26T16:40:29.128363",
     "status": "completed"
    },
    "tags": []
   },
   "source": [
    "<a id=\"1\"></a> <br>\n",
    "# 📥 Importing Libraries"
   ]
  },
  {
   "cell_type": "code",
   "execution_count": 1,
   "id": "dc37e7c4",
   "metadata": {},
   "outputs": [
    {
     "name": "stdout",
     "output_type": "stream",
     "text": [
      "Requirement already satisfied: numpy in c:\\users\\dange\\desktop\\ml_for_cybersecurity\\anvesh\\lib\\site-packages (1.26.4)\n",
      "Note: you may need to restart the kernel to use updated packages.\n"
     ]
    },
    {
     "name": "stderr",
     "output_type": "stream",
     "text": [
      "\n",
      "[notice] A new release of pip is available: 23.2.1 -> 24.0\n",
      "[notice] To update, run: python.exe -m pip install --upgrade pip\n"
     ]
    },
    {
     "name": "stdout",
     "output_type": "stream",
     "text": [
      "Requirement already satisfied: pandas in c:\\users\\dange\\desktop\\ml_for_cybersecurity\\anvesh\\lib\\site-packages (2.2.2)\n",
      "Requirement already satisfied: numpy>=1.23.2 in c:\\users\\dange\\desktop\\ml_for_cybersecurity\\anvesh\\lib\\site-packages (from pandas) (1.26.4)\n",
      "Requirement already satisfied: python-dateutil>=2.8.2 in c:\\users\\dange\\desktop\\ml_for_cybersecurity\\anvesh\\lib\\site-packages (from pandas) (2.9.0.post0)\n",
      "Requirement already satisfied: pytz>=2020.1 in c:\\users\\dange\\desktop\\ml_for_cybersecurity\\anvesh\\lib\\site-packages (from pandas) (2024.1)\n",
      "Requirement already satisfied: tzdata>=2022.7 in c:\\users\\dange\\desktop\\ml_for_cybersecurity\\anvesh\\lib\\site-packages (from pandas) (2024.1)\n",
      "Requirement already satisfied: six>=1.5 in c:\\users\\dange\\desktop\\ml_for_cybersecurity\\anvesh\\lib\\site-packages (from python-dateutil>=2.8.2->pandas) (1.16.0)\n",
      "Note: you may need to restart the kernel to use updated packages.\n"
     ]
    },
    {
     "name": "stderr",
     "output_type": "stream",
     "text": [
      "\n",
      "[notice] A new release of pip is available: 23.2.1 -> 24.0\n",
      "[notice] To update, run: python.exe -m pip install --upgrade pip\n"
     ]
    },
    {
     "name": "stdout",
     "output_type": "stream",
     "text": [
      "Requirement already satisfied: seaborn in c:\\users\\dange\\desktop\\ml_for_cybersecurity\\anvesh\\lib\\site-packages (0.13.2)\n",
      "Requirement already satisfied: numpy!=1.24.0,>=1.20 in c:\\users\\dange\\desktop\\ml_for_cybersecurity\\anvesh\\lib\\site-packages (from seaborn) (1.26.4)\n",
      "Requirement already satisfied: pandas>=1.2 in c:\\users\\dange\\desktop\\ml_for_cybersecurity\\anvesh\\lib\\site-packages (from seaborn) (2.2.2)\n",
      "Requirement already satisfied: matplotlib!=3.6.1,>=3.4 in c:\\users\\dange\\desktop\\ml_for_cybersecurity\\anvesh\\lib\\site-packages (from seaborn) (3.8.4)\n",
      "Requirement already satisfied: contourpy>=1.0.1 in c:\\users\\dange\\desktop\\ml_for_cybersecurity\\anvesh\\lib\\site-packages (from matplotlib!=3.6.1,>=3.4->seaborn) (1.2.1)\n",
      "Requirement already satisfied: cycler>=0.10 in c:\\users\\dange\\desktop\\ml_for_cybersecurity\\anvesh\\lib\\site-packages (from matplotlib!=3.6.1,>=3.4->seaborn) (0.12.1)\n",
      "Requirement already satisfied: fonttools>=4.22.0 in c:\\users\\dange\\desktop\\ml_for_cybersecurity\\anvesh\\lib\\site-packages (from matplotlib!=3.6.1,>=3.4->seaborn) (4.51.0)\n",
      "Requirement already satisfied: kiwisolver>=1.3.1 in c:\\users\\dange\\desktop\\ml_for_cybersecurity\\anvesh\\lib\\site-packages (from matplotlib!=3.6.1,>=3.4->seaborn) (1.4.5)\n",
      "Requirement already satisfied: packaging>=20.0 in c:\\users\\dange\\desktop\\ml_for_cybersecurity\\anvesh\\lib\\site-packages (from matplotlib!=3.6.1,>=3.4->seaborn) (24.0)\n",
      "Requirement already satisfied: pillow>=8 in c:\\users\\dange\\desktop\\ml_for_cybersecurity\\anvesh\\lib\\site-packages (from matplotlib!=3.6.1,>=3.4->seaborn) (10.3.0)\n",
      "Requirement already satisfied: pyparsing>=2.3.1 in c:\\users\\dange\\desktop\\ml_for_cybersecurity\\anvesh\\lib\\site-packages (from matplotlib!=3.6.1,>=3.4->seaborn) (3.1.2)\n",
      "Requirement already satisfied: python-dateutil>=2.7 in c:\\users\\dange\\desktop\\ml_for_cybersecurity\\anvesh\\lib\\site-packages (from matplotlib!=3.6.1,>=3.4->seaborn) (2.9.0.post0)\n",
      "Requirement already satisfied: pytz>=2020.1 in c:\\users\\dange\\desktop\\ml_for_cybersecurity\\anvesh\\lib\\site-packages (from pandas>=1.2->seaborn) (2024.1)\n",
      "Requirement already satisfied: tzdata>=2022.7 in c:\\users\\dange\\desktop\\ml_for_cybersecurity\\anvesh\\lib\\site-packages (from pandas>=1.2->seaborn) (2024.1)\n",
      "Requirement already satisfied: six>=1.5 in c:\\users\\dange\\desktop\\ml_for_cybersecurity\\anvesh\\lib\\site-packages (from python-dateutil>=2.7->matplotlib!=3.6.1,>=3.4->seaborn) (1.16.0)\n",
      "Note: you may need to restart the kernel to use updated packages.\n"
     ]
    },
    {
     "name": "stderr",
     "output_type": "stream",
     "text": [
      "\n",
      "[notice] A new release of pip is available: 23.2.1 -> 24.0\n",
      "[notice] To update, run: python.exe -m pip install --upgrade pip\n"
     ]
    },
    {
     "name": "stdout",
     "output_type": "stream",
     "text": [
      "Requirement already satisfied: matplotlib in c:\\users\\dange\\desktop\\ml_for_cybersecurity\\anvesh\\lib\\site-packages (3.8.4)\n",
      "Requirement already satisfied: contourpy>=1.0.1 in c:\\users\\dange\\desktop\\ml_for_cybersecurity\\anvesh\\lib\\site-packages (from matplotlib) (1.2.1)\n",
      "Requirement already satisfied: cycler>=0.10 in c:\\users\\dange\\desktop\\ml_for_cybersecurity\\anvesh\\lib\\site-packages (from matplotlib) (0.12.1)\n",
      "Requirement already satisfied: fonttools>=4.22.0 in c:\\users\\dange\\desktop\\ml_for_cybersecurity\\anvesh\\lib\\site-packages (from matplotlib) (4.51.0)\n",
      "Requirement already satisfied: kiwisolver>=1.3.1 in c:\\users\\dange\\desktop\\ml_for_cybersecurity\\anvesh\\lib\\site-packages (from matplotlib) (1.4.5)\n",
      "Requirement already satisfied: numpy>=1.21 in c:\\users\\dange\\desktop\\ml_for_cybersecurity\\anvesh\\lib\\site-packages (from matplotlib) (1.26.4)\n",
      "Requirement already satisfied: packaging>=20.0 in c:\\users\\dange\\desktop\\ml_for_cybersecurity\\anvesh\\lib\\site-packages (from matplotlib) (24.0)\n",
      "Requirement already satisfied: pillow>=8 in c:\\users\\dange\\desktop\\ml_for_cybersecurity\\anvesh\\lib\\site-packages (from matplotlib) (10.3.0)\n",
      "Requirement already satisfied: pyparsing>=2.3.1 in c:\\users\\dange\\desktop\\ml_for_cybersecurity\\anvesh\\lib\\site-packages (from matplotlib) (3.1.2)\n",
      "Requirement already satisfied: python-dateutil>=2.7 in c:\\users\\dange\\desktop\\ml_for_cybersecurity\\anvesh\\lib\\site-packages (from matplotlib) (2.9.0.post0)\n",
      "Requirement already satisfied: six>=1.5 in c:\\users\\dange\\desktop\\ml_for_cybersecurity\\anvesh\\lib\\site-packages (from python-dateutil>=2.7->matplotlib) (1.16.0)\n",
      "Note: you may need to restart the kernel to use updated packages.\n"
     ]
    },
    {
     "name": "stderr",
     "output_type": "stream",
     "text": [
      "\n",
      "[notice] A new release of pip is available: 23.2.1 -> 24.0\n",
      "[notice] To update, run: python.exe -m pip install --upgrade pip\n"
     ]
    },
    {
     "name": "stdout",
     "output_type": "stream",
     "text": [
      "Collecting scikit-learn\n",
      "  Obtaining dependency information for scikit-learn from https://files.pythonhosted.org/packages/79/3d/02d5d3ed359498fec3abdf65407d3c07e3b8765af17464969055aaec5171/scikit_learn-1.4.2-cp311-cp311-win_amd64.whl.metadata\n",
      "  Downloading scikit_learn-1.4.2-cp311-cp311-win_amd64.whl.metadata (11 kB)\n",
      "Requirement already satisfied: numpy>=1.19.5 in c:\\users\\dange\\desktop\\ml_for_cybersecurity\\anvesh\\lib\\site-packages (from scikit-learn) (1.26.4)\n",
      "Collecting scipy>=1.6.0 (from scikit-learn)\n",
      "  Obtaining dependency information for scipy>=1.6.0 from https://files.pythonhosted.org/packages/d4/a1/d4adf25b6d2bef8d0ad1682829dcfcba97f3f96bb5b6f137bc3e41003cc7/scipy-1.13.0-cp311-cp311-win_amd64.whl.metadata\n",
      "  Downloading scipy-1.13.0-cp311-cp311-win_amd64.whl.metadata (60 kB)\n",
      "     ---------------------------------------- 0.0/60.6 kB ? eta -:--:--\n",
      "     ------------------------- ------------ 41.0/60.6 kB 960.0 kB/s eta 0:00:01\n",
      "     ---------------------------------------- 60.6/60.6 kB 1.1 MB/s eta 0:00:00\n",
      "Collecting joblib>=1.2.0 (from scikit-learn)\n",
      "  Obtaining dependency information for joblib>=1.2.0 from https://files.pythonhosted.org/packages/ae/e2/4dea6313ef2b38442fccbbaf4017e50a6c3c8a50e8ee9b512783e5c90409/joblib-1.4.0-py3-none-any.whl.metadata\n",
      "  Using cached joblib-1.4.0-py3-none-any.whl.metadata (5.4 kB)\n",
      "Collecting threadpoolctl>=2.0.0 (from scikit-learn)\n",
      "  Obtaining dependency information for threadpoolctl>=2.0.0 from https://files.pythonhosted.org/packages/4b/2c/ffbf7a134b9ab11a67b0cf0726453cedd9c5043a4fe7a35d1cefa9a1bcfb/threadpoolctl-3.5.0-py3-none-any.whl.metadata\n",
      "  Downloading threadpoolctl-3.5.0-py3-none-any.whl.metadata (13 kB)\n",
      "Downloading scikit_learn-1.4.2-cp311-cp311-win_amd64.whl (10.6 MB)\n",
      "   ---------------------------------------- 0.0/10.6 MB ? eta -:--:--\n",
      "   - -------------------------------------- 0.3/10.6 MB 10.9 MB/s eta 0:00:01\n",
      "   ---- ----------------------------------- 1.3/10.6 MB 16.1 MB/s eta 0:00:01\n",
      "   ------- -------------------------------- 1.9/10.6 MB 15.3 MB/s eta 0:00:01\n",
      "   --------- ------------------------------ 2.6/10.6 MB 15.1 MB/s eta 0:00:01\n",
      "   ------------ --------------------------- 3.3/10.6 MB 14.8 MB/s eta 0:00:01\n",
      "   -------------- ------------------------- 3.9/10.6 MB 14.7 MB/s eta 0:00:01\n",
      "   ----------------- ---------------------- 4.6/10.6 MB 14.7 MB/s eta 0:00:01\n",
      "   ------------------- -------------------- 5.2/10.6 MB 14.6 MB/s eta 0:00:01\n",
      "   ---------------------- ----------------- 5.9/10.6 MB 14.5 MB/s eta 0:00:01\n",
      "   ------------------------ --------------- 6.6/10.6 MB 14.0 MB/s eta 0:00:01\n",
      "   --------------------------- ------------ 7.2/10.6 MB 14.0 MB/s eta 0:00:01\n",
      "   ----------------------------- ---------- 7.9/10.6 MB 14.0 MB/s eta 0:00:01\n",
      "   -------------------------------- ------- 8.6/10.6 MB 14.0 MB/s eta 0:00:01\n",
      "   ---------------------------------- ----- 9.2/10.6 MB 14.0 MB/s eta 0:00:01\n",
      "   ------------------------------------- -- 9.9/10.6 MB 14.0 MB/s eta 0:00:01\n",
      "   ---------------------------------------  10.5/10.6 MB 14.2 MB/s eta 0:00:01\n",
      "   ---------------------------------------- 10.6/10.6 MB 13.6 MB/s eta 0:00:00\n",
      "Using cached joblib-1.4.0-py3-none-any.whl (301 kB)\n",
      "Downloading scipy-1.13.0-cp311-cp311-win_amd64.whl (46.2 MB)\n",
      "   ---------------------------------------- 0.0/46.2 MB ? eta -:--:--\n",
      "    --------------------------------------- 0.9/46.2 MB 18.7 MB/s eta 0:00:03\n",
      "   - -------------------------------------- 1.6/46.2 MB 16.4 MB/s eta 0:00:03\n",
      "   - -------------------------------------- 2.2/46.2 MB 15.6 MB/s eta 0:00:03\n",
      "   -- ------------------------------------- 2.9/46.2 MB 15.3 MB/s eta 0:00:03\n",
      "   --- ------------------------------------ 3.5/46.2 MB 15.0 MB/s eta 0:00:03\n",
      "   --- ------------------------------------ 4.2/46.2 MB 14.8 MB/s eta 0:00:03\n",
      "   ---- ----------------------------------- 4.8/46.2 MB 14.7 MB/s eta 0:00:03\n",
      "   ---- ----------------------------------- 5.5/46.2 MB 14.6 MB/s eta 0:00:03\n",
      "   ----- ---------------------------------- 6.1/46.2 MB 14.5 MB/s eta 0:00:03\n",
      "   ----- ---------------------------------- 6.8/46.2 MB 14.5 MB/s eta 0:00:03\n",
      "   ------ --------------------------------- 7.4/46.2 MB 14.4 MB/s eta 0:00:03\n",
      "   ------- -------------------------------- 8.1/46.2 MB 14.4 MB/s eta 0:00:03\n",
      "   ------- -------------------------------- 8.8/46.2 MB 14.3 MB/s eta 0:00:03\n",
      "   -------- ------------------------------- 9.4/46.2 MB 14.3 MB/s eta 0:00:03\n",
      "   -------- ------------------------------- 10.1/46.2 MB 14.3 MB/s eta 0:00:03\n",
      "   --------- ------------------------------ 10.7/46.2 MB 13.9 MB/s eta 0:00:03\n",
      "   --------- ------------------------------ 11.4/46.2 MB 13.9 MB/s eta 0:00:03\n",
      "   ---------- ----------------------------- 12.0/46.2 MB 13.9 MB/s eta 0:00:03\n",
      "   ---------- ----------------------------- 12.7/46.2 MB 13.9 MB/s eta 0:00:03\n",
      "   ----------- ---------------------------- 13.3/46.2 MB 13.9 MB/s eta 0:00:03\n",
      "   ------------ --------------------------- 14.0/46.2 MB 13.9 MB/s eta 0:00:03\n",
      "   ------------ --------------------------- 14.7/46.2 MB 13.9 MB/s eta 0:00:03\n",
      "   ------------- -------------------------- 15.3/46.2 MB 13.9 MB/s eta 0:00:03\n",
      "   ------------- -------------------------- 16.0/46.2 MB 13.9 MB/s eta 0:00:03\n",
      "   -------------- ------------------------- 16.6/46.2 MB 13.9 MB/s eta 0:00:03\n",
      "   -------------- ------------------------- 17.3/46.2 MB 13.9 MB/s eta 0:00:03\n",
      "   --------------- ------------------------ 17.9/46.2 MB 14.2 MB/s eta 0:00:02\n",
      "   ---------------- ----------------------- 18.5/46.2 MB 14.2 MB/s eta 0:00:02\n",
      "   ---------------- ----------------------- 19.2/46.2 MB 14.2 MB/s eta 0:00:02\n",
      "   ----------------- ---------------------- 19.9/46.2 MB 14.2 MB/s eta 0:00:02\n",
      "   ----------------- ---------------------- 20.5/46.2 MB 14.2 MB/s eta 0:00:02\n",
      "   ------------------ --------------------- 21.1/46.2 MB 13.9 MB/s eta 0:00:02\n",
      "   ------------------ --------------------- 21.9/46.2 MB 13.9 MB/s eta 0:00:02\n",
      "   ------------------- -------------------- 22.5/46.2 MB 13.9 MB/s eta 0:00:02\n",
      "   -------------------- ------------------- 23.2/46.2 MB 13.9 MB/s eta 0:00:02\n",
      "   -------------------- ------------------- 23.8/46.2 MB 13.9 MB/s eta 0:00:02\n",
      "   --------------------- ------------------ 24.5/46.2 MB 13.9 MB/s eta 0:00:02\n",
      "   --------------------- ------------------ 25.2/46.2 MB 13.9 MB/s eta 0:00:02\n",
      "   ---------------------- ----------------- 25.8/46.2 MB 13.9 MB/s eta 0:00:02\n",
      "   ---------------------- ----------------- 26.5/46.2 MB 13.9 MB/s eta 0:00:02\n",
      "   ----------------------- ---------------- 27.1/46.2 MB 13.9 MB/s eta 0:00:02\n",
      "   ------------------------ --------------- 27.8/46.2 MB 13.9 MB/s eta 0:00:02\n",
      "   ------------------------ --------------- 28.5/46.2 MB 13.9 MB/s eta 0:00:02\n",
      "   ------------------------- -------------- 29.1/46.2 MB 13.9 MB/s eta 0:00:02\n",
      "   ------------------------- -------------- 29.8/46.2 MB 13.9 MB/s eta 0:00:02\n",
      "   -------------------------- ------------- 30.4/46.2 MB 13.9 MB/s eta 0:00:02\n",
      "   -------------------------- ------------- 31.1/46.2 MB 13.9 MB/s eta 0:00:02\n",
      "   --------------------------- ------------ 31.7/46.2 MB 13.9 MB/s eta 0:00:02\n",
      "   ---------------------------- ----------- 32.4/46.2 MB 13.9 MB/s eta 0:00:01\n",
      "   ---------------------------- ----------- 33.0/46.2 MB 13.9 MB/s eta 0:00:01\n",
      "   ----------------------------- ---------- 33.7/46.2 MB 13.9 MB/s eta 0:00:01\n",
      "   ----------------------------- ---------- 34.3/46.2 MB 13.9 MB/s eta 0:00:01\n",
      "   ------------------------------ --------- 35.0/46.2 MB 14.2 MB/s eta 0:00:01\n",
      "   ------------------------------ --------- 35.6/46.2 MB 14.2 MB/s eta 0:00:01\n",
      "   ------------------------------- -------- 36.3/46.2 MB 13.9 MB/s eta 0:00:01\n",
      "   -------------------------------- ------- 37.0/46.2 MB 13.9 MB/s eta 0:00:01\n",
      "   -------------------------------- ------- 37.6/46.2 MB 13.9 MB/s eta 0:00:01\n",
      "   --------------------------------- ------ 38.3/46.2 MB 13.9 MB/s eta 0:00:01\n",
      "   --------------------------------- ------ 38.9/46.2 MB 13.9 MB/s eta 0:00:01\n",
      "   ---------------------------------- ----- 39.6/46.2 MB 13.9 MB/s eta 0:00:01\n",
      "   ---------------------------------- ----- 40.3/46.2 MB 13.9 MB/s eta 0:00:01\n",
      "   ----------------------------------- ---- 40.9/46.2 MB 13.9 MB/s eta 0:00:01\n",
      "   ------------------------------------ --- 41.6/46.2 MB 13.9 MB/s eta 0:00:01\n",
      "   ------------------------------------ --- 42.2/46.2 MB 13.9 MB/s eta 0:00:01\n",
      "   ------------------------------------- -- 42.9/46.2 MB 13.9 MB/s eta 0:00:01\n",
      "   ------------------------------------- -- 43.6/46.2 MB 13.9 MB/s eta 0:00:01\n",
      "   -------------------------------------- - 44.2/46.2 MB 13.9 MB/s eta 0:00:01\n",
      "   -------------------------------------- - 44.9/46.2 MB 13.9 MB/s eta 0:00:01\n",
      "   ---------------------------------------  45.5/46.2 MB 13.9 MB/s eta 0:00:01\n",
      "   ---------------------------------------  46.2/46.2 MB 13.9 MB/s eta 0:00:01\n",
      "   ---------------------------------------  46.2/46.2 MB 13.9 MB/s eta 0:00:01\n",
      "   ---------------------------------------- 46.2/46.2 MB 12.1 MB/s eta 0:00:00\n",
      "Downloading threadpoolctl-3.5.0-py3-none-any.whl (18 kB)\n",
      "Installing collected packages: threadpoolctl, scipy, joblib, scikit-learn\n",
      "Successfully installed joblib-1.4.0 scikit-learn-1.4.2 scipy-1.13.0 threadpoolctl-3.5.0\n",
      "Note: you may need to restart the kernel to use updated packages.\n"
     ]
    },
    {
     "name": "stderr",
     "output_type": "stream",
     "text": [
      "\n",
      "[notice] A new release of pip is available: 23.2.1 -> 24.0\n",
      "[notice] To update, run: python.exe -m pip install --upgrade pip\n"
     ]
    }
   ],
   "source": [
    "%pip install numpy \n",
    "%pip install pandas \n",
    "%pip install seaborn \n",
    "%pip install matplotlib\n",
    "%pip install scikit-learn "
   ]
  },
  {
   "cell_type": "code",
   "execution_count": 2,
   "id": "ba2deb97",
   "metadata": {
    "execution": {
     "iopub.execute_input": "2022-02-26T16:40:29.170823Z",
     "iopub.status.busy": "2022-02-26T16:40:29.169773Z",
     "iopub.status.idle": "2022-02-26T16:40:30.410625Z",
     "shell.execute_reply": "2022-02-26T16:40:30.409921Z",
     "shell.execute_reply.started": "2022-02-26T16:32:47.026240Z"
    },
    "papermill": {
     "duration": 1.257187,
     "end_time": "2022-02-26T16:40:30.410791",
     "exception": false,
     "start_time": "2022-02-26T16:40:29.153604",
     "status": "completed"
    },
    "tags": []
   },
   "outputs": [],
   "source": [
    "import numpy as np\n",
    "import pandas as pd\n",
    "import seaborn as sns\n",
    "import matplotlib.pyplot as plt\n",
    "from sklearn.model_selection import train_test_split\n",
    "from sklearn.metrics import accuracy_score, confusion_matrix, classification_report\n",
    "from sklearn.tree import DecisionTreeClassifier\n",
    "from sklearn.ensemble import RandomForestClassifier, AdaBoostClassifier, ExtraTreesClassifier\n",
    "from sklearn.neighbors import KNeighborsClassifier\n",
    "from sklearn.linear_model import SGDClassifier\n",
    "from sklearn.naive_bayes import GaussianNB"
   ]
  },
  {
   "cell_type": "markdown",
   "id": "f42c2163",
   "metadata": {
    "papermill": {
     "duration": 0.012675,
     "end_time": "2022-02-26T16:40:30.436505",
     "exception": false,
     "start_time": "2022-02-26T16:40:30.423830",
     "status": "completed"
    },
    "tags": []
   },
   "source": [
    "<a id=\"2\"></a> <br>\n",
    "# 🗃️ Load Dataset"
   ]
  },
  {
   "cell_type": "code",
   "execution_count": 4,
   "id": "43b60f74",
   "metadata": {
    "execution": {
     "iopub.execute_input": "2022-02-26T16:40:30.466898Z",
     "iopub.status.busy": "2022-02-26T16:40:30.466358Z",
     "iopub.status.idle": "2022-02-26T16:40:30.533881Z",
     "shell.execute_reply": "2022-02-26T16:40:30.534319Z",
     "shell.execute_reply.started": "2022-02-26T16:32:47.123878Z"
    },
    "papermill": {
     "duration": 0.085065,
     "end_time": "2022-02-26T16:40:30.534483",
     "exception": false,
     "start_time": "2022-02-26T16:40:30.449418",
     "status": "completed"
    },
    "tags": []
   },
   "outputs": [
    {
     "data": {
      "text/html": [
       "<div>\n",
       "<style scoped>\n",
       "    .dataframe tbody tr th:only-of-type {\n",
       "        vertical-align: middle;\n",
       "    }\n",
       "\n",
       "    .dataframe tbody tr th {\n",
       "        vertical-align: top;\n",
       "    }\n",
       "\n",
       "    .dataframe thead th {\n",
       "        text-align: right;\n",
       "    }\n",
       "</style>\n",
       "<table border=\"1\" class=\"dataframe\">\n",
       "  <thead>\n",
       "    <tr style=\"text-align: right;\">\n",
       "      <th></th>\n",
       "      <th>Label</th>\n",
       "      <th>F_1</th>\n",
       "      <th>F_2</th>\n",
       "      <th>F_3</th>\n",
       "      <th>F_4</th>\n",
       "      <th>F_5</th>\n",
       "      <th>F_6</th>\n",
       "      <th>F_7</th>\n",
       "      <th>F_8</th>\n",
       "      <th>F_9</th>\n",
       "      <th>...</th>\n",
       "      <th>F_522</th>\n",
       "      <th>F_523</th>\n",
       "      <th>F_524</th>\n",
       "      <th>F_525</th>\n",
       "      <th>F_526</th>\n",
       "      <th>F_527</th>\n",
       "      <th>F_528</th>\n",
       "      <th>F_529</th>\n",
       "      <th>F_530</th>\n",
       "      <th>F_531</th>\n",
       "    </tr>\n",
       "  </thead>\n",
       "  <tbody>\n",
       "    <tr>\n",
       "      <th>0</th>\n",
       "      <td>non-malicious</td>\n",
       "      <td>1</td>\n",
       "      <td>0</td>\n",
       "      <td>1</td>\n",
       "      <td>0</td>\n",
       "      <td>1</td>\n",
       "      <td>0</td>\n",
       "      <td>1</td>\n",
       "      <td>0</td>\n",
       "      <td>1</td>\n",
       "      <td>...</td>\n",
       "      <td>0</td>\n",
       "      <td>0</td>\n",
       "      <td>0</td>\n",
       "      <td>0</td>\n",
       "      <td>0</td>\n",
       "      <td>0</td>\n",
       "      <td>0</td>\n",
       "      <td>0</td>\n",
       "      <td>0</td>\n",
       "      <td>0</td>\n",
       "    </tr>\n",
       "    <tr>\n",
       "      <th>1</th>\n",
       "      <td>non-malicious</td>\n",
       "      <td>1</td>\n",
       "      <td>0</td>\n",
       "      <td>1</td>\n",
       "      <td>0</td>\n",
       "      <td>1</td>\n",
       "      <td>0</td>\n",
       "      <td>1</td>\n",
       "      <td>0</td>\n",
       "      <td>1</td>\n",
       "      <td>...</td>\n",
       "      <td>0</td>\n",
       "      <td>0</td>\n",
       "      <td>0</td>\n",
       "      <td>0</td>\n",
       "      <td>0</td>\n",
       "      <td>0</td>\n",
       "      <td>0</td>\n",
       "      <td>0</td>\n",
       "      <td>0</td>\n",
       "      <td>0</td>\n",
       "    </tr>\n",
       "    <tr>\n",
       "      <th>2</th>\n",
       "      <td>non-malicious</td>\n",
       "      <td>1</td>\n",
       "      <td>0</td>\n",
       "      <td>1</td>\n",
       "      <td>0</td>\n",
       "      <td>1</td>\n",
       "      <td>0</td>\n",
       "      <td>1</td>\n",
       "      <td>0</td>\n",
       "      <td>1</td>\n",
       "      <td>...</td>\n",
       "      <td>0</td>\n",
       "      <td>0</td>\n",
       "      <td>0</td>\n",
       "      <td>0</td>\n",
       "      <td>0</td>\n",
       "      <td>0</td>\n",
       "      <td>0</td>\n",
       "      <td>0</td>\n",
       "      <td>0</td>\n",
       "      <td>0</td>\n",
       "    </tr>\n",
       "    <tr>\n",
       "      <th>3</th>\n",
       "      <td>non-malicious</td>\n",
       "      <td>1</td>\n",
       "      <td>0</td>\n",
       "      <td>1</td>\n",
       "      <td>0</td>\n",
       "      <td>1</td>\n",
       "      <td>0</td>\n",
       "      <td>1</td>\n",
       "      <td>0</td>\n",
       "      <td>1</td>\n",
       "      <td>...</td>\n",
       "      <td>0</td>\n",
       "      <td>0</td>\n",
       "      <td>0</td>\n",
       "      <td>0</td>\n",
       "      <td>0</td>\n",
       "      <td>0</td>\n",
       "      <td>0</td>\n",
       "      <td>0</td>\n",
       "      <td>0</td>\n",
       "      <td>0</td>\n",
       "    </tr>\n",
       "    <tr>\n",
       "      <th>4</th>\n",
       "      <td>non-malicious</td>\n",
       "      <td>1</td>\n",
       "      <td>0</td>\n",
       "      <td>1</td>\n",
       "      <td>0</td>\n",
       "      <td>1</td>\n",
       "      <td>0</td>\n",
       "      <td>1</td>\n",
       "      <td>0</td>\n",
       "      <td>1</td>\n",
       "      <td>...</td>\n",
       "      <td>0</td>\n",
       "      <td>0</td>\n",
       "      <td>0</td>\n",
       "      <td>0</td>\n",
       "      <td>0</td>\n",
       "      <td>0</td>\n",
       "      <td>0</td>\n",
       "      <td>0</td>\n",
       "      <td>0</td>\n",
       "      <td>0</td>\n",
       "    </tr>\n",
       "  </tbody>\n",
       "</table>\n",
       "<p>5 rows × 532 columns</p>\n",
       "</div>"
      ],
      "text/plain": [
       "           Label  F_1  F_2  F_3  F_4  F_5  F_6  F_7  F_8  F_9  ...  F_522  \\\n",
       "0  non-malicious    1    0    1    0    1    0    1    0    1  ...      0   \n",
       "1  non-malicious    1    0    1    0    1    0    1    0    1  ...      0   \n",
       "2  non-malicious    1    0    1    0    1    0    1    0    1  ...      0   \n",
       "3  non-malicious    1    0    1    0    1    0    1    0    1  ...      0   \n",
       "4  non-malicious    1    0    1    0    1    0    1    0    1  ...      0   \n",
       "\n",
       "   F_523  F_524  F_525  F_526  F_527  F_528  F_529  F_530  F_531  \n",
       "0      0      0      0      0      0      0      0      0      0  \n",
       "1      0      0      0      0      0      0      0      0      0  \n",
       "2      0      0      0      0      0      0      0      0      0  \n",
       "3      0      0      0      0      0      0      0      0      0  \n",
       "4      0      0      0      0      0      0      0      0      0  \n",
       "\n",
       "[5 rows x 532 columns]"
      ]
     },
     "execution_count": 4,
     "metadata": {},
     "output_type": "execute_result"
    }
   ],
   "source": [
    "data = pd.read_csv('./uci_malware_detection.csv')\n",
    "data.head()"
   ]
  },
  {
   "cell_type": "markdown",
   "id": "21a9e8a4",
   "metadata": {
    "papermill": {
     "duration": 0.013258,
     "end_time": "2022-02-26T16:40:30.561918",
     "exception": false,
     "start_time": "2022-02-26T16:40:30.548660",
     "status": "completed"
    },
    "tags": []
   },
   "source": [
    "<a id=\"3\"></a>\n",
    "# 🔎 Checking for NaN values"
   ]
  },
  {
   "cell_type": "code",
   "execution_count": 5,
   "id": "ca4c1541",
   "metadata": {
    "execution": {
     "iopub.execute_input": "2022-02-26T16:40:30.594131Z",
     "iopub.status.busy": "2022-02-26T16:40:30.593577Z",
     "iopub.status.idle": "2022-02-26T16:40:30.602122Z",
     "shell.execute_reply": "2022-02-26T16:40:30.601314Z",
     "shell.execute_reply.started": "2022-02-26T16:32:47.172896Z"
    },
    "papermill": {
     "duration": 0.027167,
     "end_time": "2022-02-26T16:40:30.602310",
     "exception": false,
     "start_time": "2022-02-26T16:40:30.575143",
     "status": "completed"
    },
    "tags": []
   },
   "outputs": [
    {
     "data": {
      "text/plain": [
       "Label    0\n",
       "F_1      0\n",
       "F_2      0\n",
       "F_3      0\n",
       "F_4      0\n",
       "        ..\n",
       "F_527    0\n",
       "F_528    0\n",
       "F_529    0\n",
       "F_530    0\n",
       "F_531    0\n",
       "Length: 532, dtype: int64"
      ]
     },
     "execution_count": 5,
     "metadata": {},
     "output_type": "execute_result"
    }
   ],
   "source": [
    "data.isnull().sum()"
   ]
  },
  {
   "cell_type": "markdown",
   "id": "d460bba3",
   "metadata": {
    "papermill": {
     "duration": 0.013708,
     "end_time": "2022-02-26T16:40:30.633493",
     "exception": false,
     "start_time": "2022-02-26T16:40:30.619785",
     "status": "completed"
    },
    "tags": []
   },
   "source": [
    "<a id=\"4\"></a> <br>\n",
    "# 🔥 EDA & Visualization"
   ]
  },
  {
   "cell_type": "code",
   "execution_count": 6,
   "id": "cfdfd63d",
   "metadata": {
    "execution": {
     "iopub.execute_input": "2022-02-26T16:40:30.672069Z",
     "iopub.status.busy": "2022-02-26T16:40:30.671512Z",
     "iopub.status.idle": "2022-02-26T16:40:30.819351Z",
     "shell.execute_reply": "2022-02-26T16:40:30.820293Z",
     "shell.execute_reply.started": "2022-02-26T16:32:47.181820Z"
    },
    "papermill": {
     "duration": 0.165686,
     "end_time": "2022-02-26T16:40:30.820561",
     "exception": false,
     "start_time": "2022-02-26T16:40:30.654875",
     "status": "completed"
    },
    "tags": []
   },
   "outputs": [
    {
     "data": {
      "image/png": "[encoded data removed]",
      "text/plain": [
       "<Figure size 640x480 with 1 Axes>"
      ]
     },
     "metadata": {},
     "output_type": "display_data"
    }
   ],
   "source": [
    "sns.countplot(x='Label', data=data);"
   ]
  },
  {
   "cell_type": "markdown",
   "id": "fbd9745c",
   "metadata": {
    "papermill": {
     "duration": 0.015355,
     "end_time": "2022-02-26T16:40:30.865253",
     "exception": false,
     "start_time": "2022-02-26T16:40:30.849898",
     "status": "completed"
    },
    "tags": []
   },
   "source": [
    "<a id=\"5\"></a> <br>\n",
    "# ✂️ Data Splitting"
   ]
  },
  {
   "cell_type": "code",
   "execution_count": 7,
   "id": "22e1ea37",
   "metadata": {
    "execution": {
     "iopub.execute_input": "2022-02-26T16:40:30.896824Z",
     "iopub.status.busy": "2022-02-26T16:40:30.896303Z",
     "iopub.status.idle": "2022-02-26T16:40:30.901170Z",
     "shell.execute_reply": "2022-02-26T16:40:30.901633Z",
     "shell.execute_reply.started": "2022-02-26T16:32:47.342937Z"
    },
    "papermill": {
     "duration": 0.022116,
     "end_time": "2022-02-26T16:40:30.901779",
     "exception": false,
     "start_time": "2022-02-26T16:40:30.879663",
     "status": "completed"
    },
    "tags": []
   },
   "outputs": [],
   "source": [
    "X = data.drop([\"Label\"],axis=1)\n",
    "y = data['Label'].values"
   ]
  },
  {
   "cell_type": "code",
   "execution_count": 8,
   "id": "1545503c",
   "metadata": {
    "execution": {
     "iopub.execute_input": "2022-02-26T16:40:30.934507Z",
     "iopub.status.busy": "2022-02-26T16:40:30.933927Z",
     "iopub.status.idle": "2022-02-26T16:40:30.941333Z",
     "shell.execute_reply": "2022-02-26T16:40:30.940799Z",
     "shell.execute_reply.started": "2022-02-26T16:32:47.351720Z"
    },
    "papermill": {
     "duration": 0.023712,
     "end_time": "2022-02-26T16:40:30.941459",
     "exception": false,
     "start_time": "2022-02-26T16:40:30.917747",
     "status": "completed"
    },
    "tags": []
   },
   "outputs": [],
   "source": [
    "X_train, X_test, y_train, y_test = train_test_split(X,y,test_size=0.2, random_state=10)"
   ]
  },
  {
   "cell_type": "markdown",
   "id": "fba8ace7",
   "metadata": {
    "papermill": {
     "duration": 0.014049,
     "end_time": "2022-02-26T16:40:30.969871",
     "exception": false,
     "start_time": "2022-02-26T16:40:30.955822",
     "status": "completed"
    },
    "tags": []
   },
   "source": [
    "<a id=\"6\"></a> <br>\n",
    "# 📚 Training models"
   ]
  },
  {
   "cell_type": "code",
   "execution_count": 9,
   "id": "de8a4eef",
   "metadata": {
    "execution": {
     "iopub.execute_input": "2022-02-26T16:40:31.011246Z",
     "iopub.status.busy": "2022-02-26T16:40:31.010652Z",
     "iopub.status.idle": "2022-02-26T16:40:33.197095Z",
     "shell.execute_reply": "2022-02-26T16:40:33.197523Z",
     "shell.execute_reply.started": "2022-02-26T16:32:47.363239Z"
    },
    "papermill": {
     "duration": 2.213612,
     "end_time": "2022-02-26T16:40:33.197675",
     "exception": false,
     "start_time": "2022-02-26T16:40:30.984063",
     "status": "completed"
    },
    "tags": []
   },
   "outputs": [
    {
     "name": "stdout",
     "output_type": "stream",
     "text": [
      "######-Model =>\u001b[07m RandomForestClassifier \u001b[0m\n",
      "Test Accuracy :\u001b[32m \u001b[01m 100.00000% \u001b[30m \u001b[0m\n",
      "\u001b[01m              Classification_report \u001b[0m\n",
      "               precision    recall  f1-score   support\n",
      "\n",
      "    malicious       1.00      1.00      1.00        61\n",
      "non-malicious       1.00      1.00      1.00        14\n",
      "\n",
      "     accuracy                           1.00        75\n",
      "    macro avg       1.00      1.00      1.00        75\n",
      " weighted avg       1.00      1.00      1.00        75\n",
      "\n",
      "\u001b[01m             Confusion_matrix \u001b[0m\n"
     ]
    },
    {
     "data": {
      "image/png": "[encoded data removed]",
      "text/plain": [
       "<Figure size 640x480 with 2 Axes>"
      ]
     },
     "metadata": {},
     "output_type": "display_data"
    },
    {
     "name": "stdout",
     "output_type": "stream",
     "text": [
      "\u001b[31m###################- End -###################\u001b[0m\n",
      "######-Model =>\u001b[07m DecisionTreeClassifier \u001b[0m\n",
      "Test Accuracy :\u001b[32m \u001b[01m 98.66667% \u001b[30m \u001b[0m\n",
      "\u001b[01m              Classification_report \u001b[0m\n",
      "               precision    recall  f1-score   support\n",
      "\n",
      "    malicious       0.98      1.00      0.99        61\n",
      "non-malicious       1.00      0.93      0.96        14\n",
      "\n",
      "     accuracy                           0.99        75\n",
      "    macro avg       0.99      0.96      0.98        75\n",
      " weighted avg       0.99      0.99      0.99        75\n",
      "\n",
      "\u001b[01m             Confusion_matrix \u001b[0m\n"
     ]
    },
    {
     "data": {
      "image/png": "[encoded data removed]",
      "text/plain": [
       "<Figure size 640x480 with 2 Axes>"
      ]
     },
     "metadata": {},
     "output_type": "display_data"
    },
    {
     "name": "stdout",
     "output_type": "stream",
     "text": [
      "\u001b[31m###################- End -###################\u001b[0m\n",
      "######-Model =>\u001b[07m KNeighborsClassifier \u001b[0m\n",
      "Test Accuracy :\u001b[32m \u001b[01m 98.66667% \u001b[30m \u001b[0m\n",
      "\u001b[01m              Classification_report \u001b[0m\n",
      "               precision    recall  f1-score   support\n",
      "\n",
      "    malicious       0.98      1.00      0.99        61\n",
      "non-malicious       1.00      0.93      0.96        14\n",
      "\n",
      "     accuracy                           0.99        75\n",
      "    macro avg       0.99      0.96      0.98        75\n",
      " weighted avg       0.99      0.99      0.99        75\n",
      "\n",
      "\u001b[01m             Confusion_matrix \u001b[0m\n"
     ]
    },
    {
     "data": {
      "image/png": "[encoded data removed]",
      "text/plain": [
       "<Figure size 640x480 with 2 Axes>"
      ]
     },
     "metadata": {},
     "output_type": "display_data"
    },
    {
     "name": "stdout",
     "output_type": "stream",
     "text": [
      "\u001b[31m###################- End -###################\u001b[0m\n",
      "######-Model =>\u001b[07m AdaBoostClassifier \u001b[0m\n",
      "Test Accuracy :\u001b[32m \u001b[01m 98.66667% \u001b[30m \u001b[0m\n",
      "\u001b[01m              Classification_report \u001b[0m\n",
      "               precision    recall  f1-score   support\n",
      "\n",
      "    malicious       0.98      1.00      0.99        61\n",
      "non-malicious       1.00      0.93      0.96        14\n",
      "\n",
      "     accuracy                           0.99        75\n",
      "    macro avg       0.99      0.96      0.98        75\n",
      " weighted avg       0.99      0.99      0.99        75\n",
      "\n",
      "\u001b[01m             Confusion_matrix \u001b[0m\n"
     ]
    },
    {
     "name": "stderr",
     "output_type": "stream",
     "text": [
      "c:\\Users\\dange\\Desktop\\ml_for_cybersecurity\\anvesh\\Lib\\site-packages\\sklearn\\ensemble\\_weight_boosting.py:519: FutureWarning: The SAMME.R algorithm (the default) is deprecated and will be removed in 1.6. Use the SAMME algorithm to circumvent this warning.\n",
      "  warnings.warn(\n"
     ]
    },
    {
     "data": {
      "image/png": "[encoded data removed]",
      "text/plain": [
       "<Figure size 640x480 with 2 Axes>"
      ]
     },
     "metadata": {},
     "output_type": "display_data"
    },
    {
     "name": "stdout",
     "output_type": "stream",
     "text": [
      "\u001b[31m###################- End -###################\u001b[0m\n",
      "######-Model =>\u001b[07m SGDClassifier \u001b[0m\n",
      "Test Accuracy :\u001b[32m \u001b[01m 100.00000% \u001b[30m \u001b[0m\n",
      "\u001b[01m              Classification_report \u001b[0m\n",
      "               precision    recall  f1-score   support\n",
      "\n",
      "    malicious       1.00      1.00      1.00        61\n",
      "non-malicious       1.00      1.00      1.00        14\n",
      "\n",
      "     accuracy                           1.00        75\n",
      "    macro avg       1.00      1.00      1.00        75\n",
      " weighted avg       1.00      1.00      1.00        75\n",
      "\n",
      "\u001b[01m             Confusion_matrix \u001b[0m\n"
     ]
    },
    {
     "data": {
      "image/png": "[encoded data removed]",
      "text/plain": [
       "<Figure size 640x480 with 2 Axes>"
      ]
     },
     "metadata": {},
     "output_type": "display_data"
    },
    {
     "name": "stdout",
     "output_type": "stream",
     "text": [
      "\u001b[31m###################- End -###################\u001b[0m\n",
      "######-Model =>\u001b[07m ExtraTreesClassifier \u001b[0m\n",
      "Test Accuracy :\u001b[32m \u001b[01m 100.00000% \u001b[30m \u001b[0m\n",
      "\u001b[01m              Classification_report \u001b[0m\n",
      "               precision    recall  f1-score   support\n",
      "\n",
      "    malicious       1.00      1.00      1.00        61\n",
      "non-malicious       1.00      1.00      1.00        14\n",
      "\n",
      "     accuracy                           1.00        75\n",
      "    macro avg       1.00      1.00      1.00        75\n",
      " weighted avg       1.00      1.00      1.00        75\n",
      "\n",
      "\u001b[01m             Confusion_matrix \u001b[0m\n"
     ]
    },
    {
     "data": {
      "image/png": "[encoded data removed]",
      "text/plain": [
       "<Figure size 640x480 with 2 Axes>"
      ]
     },
     "metadata": {},
     "output_type": "display_data"
    },
    {
     "name": "stdout",
     "output_type": "stream",
     "text": [
      "\u001b[31m###################- End -###################\u001b[0m\n",
      "######-Model =>\u001b[07m GaussianNB \u001b[0m\n",
      "Test Accuracy :\u001b[32m \u001b[01m 100.00000% \u001b[30m \u001b[0m\n",
      "\u001b[01m              Classification_report \u001b[0m\n",
      "               precision    recall  f1-score   support\n",
      "\n",
      "    malicious       1.00      1.00      1.00        61\n",
      "non-malicious       1.00      1.00      1.00        14\n",
      "\n",
      "     accuracy                           1.00        75\n",
      "    macro avg       1.00      1.00      1.00        75\n",
      " weighted avg       1.00      1.00      1.00        75\n",
      "\n",
      "\u001b[01m             Confusion_matrix \u001b[0m\n"
     ]
    },
    {
     "data": {
      "image/png": "[encoded data removed]",
      "text/plain": [
       "<Figure size 640x480 with 2 Axes>"
      ]
     },
     "metadata": {},
     "output_type": "display_data"
    },
    {
     "name": "stdout",
     "output_type": "stream",
     "text": [
      "\u001b[31m###################- End -###################\u001b[0m\n"
     ]
    }
   ],
   "source": [
    "models = [RandomForestClassifier,DecisionTreeClassifier,KNeighborsClassifier,AdaBoostClassifier,SGDClassifier,\n",
    "         ExtraTreesClassifier,GaussianNB]\n",
    "accuracy_test=[]\n",
    "model = []\n",
    "for m in models:\n",
    "    model_name = type(m()).__name__\n",
    "    print('######-Model =>\\033[07m {} \\033[0m'.format(type(m()).__name__))\n",
    "    model_ = m()\n",
    "    model_.fit(X_train, y_train)\n",
    "    pred = model_.predict(X_test)\n",
    "    acc = accuracy_score(pred, y_test)\n",
    "    accuracy_test.append(acc)\n",
    "    model.append(model_name)\n",
    "    print('Test Accuracy :\\033[32m \\033[01m {:.5f}% \\033[30m \\033[0m'.format(acc*100))\n",
    "    print('\\033[01m              Classification_report \\033[0m')\n",
    "    print(classification_report(y_test, pred))\n",
    "    print('\\033[01m             Confusion_matrix \\033[0m')\n",
    "    cf_matrix = confusion_matrix(y_test, pred)\n",
    "    plot_ = sns.heatmap(cf_matrix/np.sum(cf_matrix), annot=True,fmt= '0.2%')\n",
    "    plt.show()\n",
    "    print('\\033[31m###################- End -###################\\033[0m')"
   ]
  },
  {
   "cell_type": "markdown",
   "id": "10974a42",
   "metadata": {
    "papermill": {
     "duration": 0.021714,
     "end_time": "2022-02-26T16:40:33.241298",
     "exception": false,
     "start_time": "2022-02-26T16:40:33.219584",
     "status": "completed"
    },
    "tags": []
   },
   "source": [
    "<a id=\"7\"></a> <br>\n",
    "# 📊 Final Report"
   ]
  },
  {
   "cell_type": "code",
   "execution_count": 10,
   "id": "b6bcf3ce",
   "metadata": {
    "execution": {
     "iopub.execute_input": "2022-02-26T16:40:33.291018Z",
     "iopub.status.busy": "2022-02-26T16:40:33.290462Z",
     "iopub.status.idle": "2022-02-26T16:40:33.293437Z",
     "shell.execute_reply": "2022-02-26T16:40:33.292920Z",
     "shell.execute_reply.started": "2022-02-26T16:32:49.210217Z"
    },
    "papermill": {
     "duration": 0.030448,
     "end_time": "2022-02-26T16:40:33.293560",
     "exception": false,
     "start_time": "2022-02-26T16:40:33.263112",
     "status": "completed"
    },
    "tags": []
   },
   "outputs": [],
   "source": [
    "model = pd.Series(model, name='Model').astype(str)\n",
    "accuracy = pd.Series(accuracy_test, name='Accuracy')\n",
    "output = pd.concat([model, accuracy], axis=1)"
   ]
  },
  {
   "cell_type": "code",
   "execution_count": 11,
   "id": "38609eed",
   "metadata": {
    "execution": {
     "iopub.execute_input": "2022-02-26T16:40:33.340338Z",
     "iopub.status.busy": "2022-02-26T16:40:33.339464Z",
     "iopub.status.idle": "2022-02-26T16:40:33.348102Z",
     "shell.execute_reply": "2022-02-26T16:40:33.348617Z",
     "shell.execute_reply.started": "2022-02-26T16:32:49.220079Z"
    },
    "papermill": {
     "duration": 0.033502,
     "end_time": "2022-02-26T16:40:33.348767",
     "exception": false,
     "start_time": "2022-02-26T16:40:33.315265",
     "status": "completed"
    },
    "tags": []
   },
   "outputs": [
    {
     "data": {
      "text/html": [
       "<div>\n",
       "<style scoped>\n",
       "    .dataframe tbody tr th:only-of-type {\n",
       "        vertical-align: middle;\n",
       "    }\n",
       "\n",
       "    .dataframe tbody tr th {\n",
       "        vertical-align: top;\n",
       "    }\n",
       "\n",
       "    .dataframe thead th {\n",
       "        text-align: right;\n",
       "    }\n",
       "</style>\n",
       "<table border=\"1\" class=\"dataframe\">\n",
       "  <thead>\n",
       "    <tr style=\"text-align: right;\">\n",
       "      <th></th>\n",
       "      <th>Model</th>\n",
       "      <th>Accuracy</th>\n",
       "    </tr>\n",
       "  </thead>\n",
       "  <tbody>\n",
       "    <tr>\n",
       "      <th>0</th>\n",
       "      <td>RandomForestClassifier</td>\n",
       "      <td>1.000000</td>\n",
       "    </tr>\n",
       "    <tr>\n",
       "      <th>1</th>\n",
       "      <td>DecisionTreeClassifier</td>\n",
       "      <td>0.986667</td>\n",
       "    </tr>\n",
       "    <tr>\n",
       "      <th>2</th>\n",
       "      <td>KNeighborsClassifier</td>\n",
       "      <td>0.986667</td>\n",
       "    </tr>\n",
       "    <tr>\n",
       "      <th>3</th>\n",
       "      <td>AdaBoostClassifier</td>\n",
       "      <td>0.986667</td>\n",
       "    </tr>\n",
       "    <tr>\n",
       "      <th>4</th>\n",
       "      <td>SGDClassifier</td>\n",
       "      <td>1.000000</td>\n",
       "    </tr>\n",
       "    <tr>\n",
       "      <th>5</th>\n",
       "      <td>ExtraTreesClassifier</td>\n",
       "      <td>1.000000</td>\n",
       "    </tr>\n",
       "    <tr>\n",
       "      <th>6</th>\n",
       "      <td>GaussianNB</td>\n",
       "      <td>1.000000</td>\n",
       "    </tr>\n",
       "  </tbody>\n",
       "</table>\n",
       "</div>"
      ],
      "text/plain": [
       "                    Model  Accuracy\n",
       "0  RandomForestClassifier  1.000000\n",
       "1  DecisionTreeClassifier  0.986667\n",
       "2    KNeighborsClassifier  0.986667\n",
       "3      AdaBoostClassifier  0.986667\n",
       "4           SGDClassifier  1.000000\n",
       "5    ExtraTreesClassifier  1.000000\n",
       "6              GaussianNB  1.000000"
      ]
     },
     "execution_count": 11,
     "metadata": {},
     "output_type": "execute_result"
    }
   ],
   "source": [
    "output"
   ]
  },
  {
   "cell_type": "code",
   "execution_count": 12,
   "id": "c2d2788d",
   "metadata": {
    "execution": {
     "iopub.execute_input": "2022-02-26T16:40:33.401069Z",
     "iopub.status.busy": "2022-02-26T16:40:33.399988Z",
     "iopub.status.idle": "2022-02-26T16:40:33.650548Z",
     "shell.execute_reply": "2022-02-26T16:40:33.651058Z",
     "shell.execute_reply.started": "2022-02-26T16:32:49.238249Z"
    },
    "papermill": {
     "duration": 0.279592,
     "end_time": "2022-02-26T16:40:33.651243",
     "exception": false,
     "start_time": "2022-02-26T16:40:33.371651",
     "status": "completed"
    },
    "tags": []
   },
   "outputs": [
    {
     "data": {
      "image/png": "[encoded data removed]",
      "text/plain": [
       "<Figure size 1200x700 with 1 Axes>"
      ]
     },
     "metadata": {},
     "output_type": "display_data"
    }
   ],
   "source": [
    "plt.figure(figsize=(12, 7))\n",
    "plots = sns.barplot(x='Model', y='Accuracy', data=output)\n",
    "for bar in plots.patches:\n",
    "    plots.annotate(format(bar.get_height(), '.2f'),\n",
    "                   (bar.get_x() + bar.get_width() / 2,\n",
    "                    bar.get_height()), ha='center', va='center',\n",
    "                   size=15, xytext=(0, 8),\n",
    "                   textcoords='offset points')\n",
    "\n",
    "plt.xlabel(\"Models\")\n",
    "plt.ylabel(\"Accuracy\")\n",
    "plt.xticks(rotation=20);"
   ]
  }
 ],
 "metadata": {
  "kernelspec": {
   "display_name": "Python 3",
   "language": "python",
   "name": "python3"
  },
  "language_info": {
   "codemirror_mode": {
    "name": "ipython",
    "version": 3
   },
   "file_extension": ".py",
   "mimetype": "text/x-python",
   "name": "python",
   "nbconvert_exporter": "python",
   "pygments_lexer": "ipython3",
   "version": "3.11.5"
  },
  "papermill": {
   "default_parameters": {},
   "duration": 13.216254,
   "end_time": "2022-02-26T16:40:34.430505",
   "environment_variables": {},
   "exception": null,
   "input_path": "__notebook__.ipynb",
   "output_path": "__notebook__.ipynb",
   "parameters": {},
   "start_time": "2022-02-26T16:40:21.214251",
   "version": "2.3.3"
  }
 },
 "nbformat": 4,
 "nbformat_minor": 5
}
